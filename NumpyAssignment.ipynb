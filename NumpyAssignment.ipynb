{
  "cells": [
    {
      "cell_type": "markdown",
      "metadata": {
        "id": "UZXjlass3ARu"
      },
      "source": [
        "\n",
        "# **1. Basic Array Manipulation:**\n"
      ]
    },
    {
      "cell_type": "markdown",
      "metadata": {
        "id": "tDWPQRm23C7o"
      },
      "source": [
        "Create a 1D array with values ranging from 0 to 9.\n"
      ]
    },
    {
      "cell_type": "code",
      "execution_count": 2,
      "metadata": {
        "id": "OvGF66_02Q8H"
      },
      "outputs": [
        {
          "data": {
            "text/plain": [
              "array([0, 1, 2, 3, 4, 5, 6, 7, 8, 9])"
            ]
          },
          "execution_count": 2,
          "metadata": {},
          "output_type": "execute_result"
        }
      ],
      "source": [
        "import numpy as np\n",
        "array = np.arange(10) # 0 to 9\n",
        "array\n"
      ]
    },
    {
      "cell_type": "markdown",
      "metadata": {
        "id": "UYzIzPyB3Ne3"
      },
      "source": [
        "Reshape the array into a 3x3 matrix.\n",
        "\n",
        "Explore Reshape Function"
      ]
    },
    {
      "cell_type": "code",
      "execution_count": 4,
      "metadata": {
        "id": "RLlzDCBc2Q_P"
      },
      "outputs": [
        {
          "data": {
            "text/plain": [
              "array([[1, 2, 3],\n",
              "       [4, 5, 6],\n",
              "       [7, 8, 9]])"
            ]
          },
          "execution_count": 4,
          "metadata": {},
          "output_type": "execute_result"
        }
      ],
      "source": [
        "# reshape\n",
        "# 3 x 3\n",
        "array = np.arange(1,10)\n",
        "array\n",
        "reshaped_array = array.reshape((3,3))\n",
        "reshaped_array"
      ]
    },
    {
      "cell_type": "markdown",
      "metadata": {
        "id": "KmhRK9Ti3Phn"
      },
      "source": [
        "Access the element at the second row, second column.\n"
      ]
    },
    {
      "cell_type": "code",
      "execution_count": 9,
      "metadata": {
        "id": "Dk_a1D3A3ijN"
      },
      "outputs": [
        {
          "data": {
            "text/plain": [
              "5"
            ]
          },
          "execution_count": 9,
          "metadata": {},
          "output_type": "execute_result"
        }
      ],
      "source": [
        "array_element = reshaped_array[1,1]\n",
        "array_element"
      ]
    },
    {
      "cell_type": "markdown",
      "metadata": {
        "id": "NlH7N-fZ36wc"
      },
      "source": [
        "Perform element-wise addition, subtraction, multiplication, and division on two arrays [1, 2, 3] and [4, 5, 6].\n"
      ]
    },
    {
      "cell_type": "code",
      "execution_count": 10,
      "metadata": {
        "id": "PkgNSo1a37kP"
      },
      "outputs": [
        {
          "data": {
            "text/plain": [
              "array([0.25, 0.4 , 0.5 ])"
            ]
          },
          "execution_count": 10,
          "metadata": {},
          "output_type": "execute_result"
        }
      ],
      "source": [
        "array1 = np.array([1,2,3])\n",
        "array2 = np.array([4,5,6])\n",
        "\n",
        "addition = array1 + array2 # Addition\n",
        "addition\n",
        "\n",
        "sub = array1 - array2\n",
        "sub \n",
        "\n",
        "mul = array1 * array2\n",
        "mul\n",
        "\n",
        "div = array1 / array2\n",
        "div"
      ]
    },
    {
      "cell_type": "markdown",
      "metadata": {
        "id": "JVt4zxkk8e0P"
      },
      "source": [
        "Find the sum, mean, and standard deviation of the array [1, 2, 3, 4, 5].\n"
      ]
    },
    {
      "cell_type": "code",
      "execution_count": 11,
      "metadata": {
        "id": "mQZxaZ0c8nhh"
      },
      "outputs": [
        {
          "data": {
            "text/plain": [
              "15"
            ]
          },
          "execution_count": 11,
          "metadata": {},
          "output_type": "execute_result"
        }
      ],
      "source": [
        "array = np.array([1,2,3,4,5])\n",
        "array.sum()"
      ]
    },
    {
      "cell_type": "code",
      "execution_count": 12,
      "metadata": {},
      "outputs": [
        {
          "data": {
            "text/plain": [
              "3.0"
            ]
          },
          "execution_count": 12,
          "metadata": {},
          "output_type": "execute_result"
        }
      ],
      "source": [
        "array.mean()"
      ]
    },
    {
      "cell_type": "code",
      "execution_count": 13,
      "metadata": {},
      "outputs": [
        {
          "data": {
            "text/plain": [
              "1.4142135623730951"
            ]
          },
          "execution_count": 13,
          "metadata": {},
          "output_type": "execute_result"
        }
      ],
      "source": [
        "array.std()"
      ]
    },
    {
      "cell_type": "markdown",
      "metadata": {
        "id": "ji2XvW0Z8nn5"
      },
      "source": [
        "Reshape the array [1, 2, 3, 4, 5, 6] into a 2x3 array.\n",
        "\n",
        "Explore Reshape"
      ]
    },
    {
      "cell_type": "code",
      "execution_count": 16,
      "metadata": {
        "id": "FNbYlzyI8rAx"
      },
      "outputs": [
        {
          "data": {
            "text/plain": [
              "array([[1, 2, 3],\n",
              "       [4, 5, 6]])"
            ]
          },
          "execution_count": 16,
          "metadata": {},
          "output_type": "execute_result"
        }
      ],
      "source": [
        "array = np.array([1,2,3,4,5,6])\n",
        "new_array = array.reshape((2,3))\n",
        "new_array"
      ]
    },
    {
      "cell_type": "markdown",
      "metadata": {
        "id": "OE-5o0th3SU4"
      },
      "source": [
        "\n",
        "# **2. Indexing and Slicing:**\n"
      ]
    },
    {
      "cell_type": "markdown",
      "metadata": {
        "id": "yqNKWBOl3an3"
      },
      "source": [
        "Create a 5x5 array with random integers.\n"
      ]
    },
    {
      "cell_type": "code",
      "execution_count": 20,
      "metadata": {
        "id": "G-kX4nme2RBn"
      },
      "outputs": [
        {
          "data": {
            "text/plain": [
              "array([[5, 8, 1, 5, 6],\n",
              "       [5, 0, 7, 0, 0],\n",
              "       [2, 6, 4, 0, 6],\n",
              "       [3, 3, 7, 2, 4],\n",
              "       [1, 0, 7, 4, 6]])"
            ]
          },
          "execution_count": 20,
          "metadata": {},
          "output_type": "execute_result"
        }
      ],
      "source": [
        "array = np.random.randint(0 , 9 , size=(5,5))\n",
        "array"
      ]
    },
    {
      "cell_type": "markdown",
      "metadata": {
        "id": "LlilKAMF3bMX"
      },
      "source": [
        "Replace all values in the sub-array with a specific value.\n"
      ]
    },
    {
      "cell_type": "code",
      "execution_count": 22,
      "metadata": {
        "id": "gShfqRGm2REI"
      },
      "outputs": [
        {
          "data": {
            "text/plain": [
              "array([[ 5,  8,  1,  5,  6],\n",
              "       [10, 10, 10, 10, 10],\n",
              "       [10, 10, 10, 10, 10],\n",
              "       [10, 10, 10, 10, 10],\n",
              "       [ 1,  0,  7,  4,  6]])"
            ]
          },
          "execution_count": 22,
          "metadata": {},
          "output_type": "execute_result"
        }
      ],
      "source": [
        "array[1:4,:] = 10\n",
        "array"
      ]
    },
    {
      "cell_type": "markdown",
      "metadata": {
        "id": "1kUY7u023gfF"
      },
      "source": [
        "Extract the subarray [[3, 4], [7, 8]] from the array [[1, 2], [3, 4], [5, 6], [7, 8]].\n"
      ]
    },
    {
      "cell_type": "code",
      "execution_count": 27,
      "metadata": {
        "id": "UmgqjBwC3_4V"
      },
      "outputs": [
        {
          "data": {
            "text/plain": [
              "array([[3, 4],\n",
              "       [7, 8]])"
            ]
          },
          "execution_count": 27,
          "metadata": {},
          "output_type": "execute_result"
        }
      ],
      "source": [
        "array = np.array([[1,2],[3,4],[5,6],[7,8]])\n",
        "array[[1,3]]"
      ]
    },
    {
      "cell_type": "markdown",
      "metadata": {
        "id": "vPrCHS_O3jK9"
      },
      "source": [
        "\n",
        "# **3. Broadcasting:**"
      ]
    },
    {
      "cell_type": "markdown",
      "metadata": {
        "id": "W3WUM5Cc3phc"
      },
      "source": [
        "Create a 2D array of shape (3, 3) with values from 0 to 2.\n"
      ]
    },
    {
      "cell_type": "code",
      "execution_count": 28,
      "metadata": {
        "id": "PxJrAlFW2RGw"
      },
      "outputs": [
        {
          "data": {
            "text/plain": [
              "array([0, 1, 2])"
            ]
          },
          "execution_count": 28,
          "metadata": {},
          "output_type": "execute_result"
        }
      ],
      "source": [
        "array = np.array([0,1,2])\n",
        "array"
      ]
    },
    {
      "cell_type": "code",
      "execution_count": 31,
      "metadata": {},
      "outputs": [
        {
          "data": {
            "text/plain": [
              "array([[0, 1, 2],\n",
              "       [0, 1, 2],\n",
              "       [0, 1, 2]])"
            ]
          },
          "execution_count": 31,
          "metadata": {},
          "output_type": "execute_result"
        }
      ],
      "source": [
        "new_array = np.tile(array, (3,1))\n",
        "new_array"
      ]
    },
    {
      "cell_type": "markdown",
      "metadata": {
        "id": "J5XPwN3A3rXG"
      },
      "source": [
        "Add a 1D array of shape (3,) to each row of the 2D array using broadcasting.\n"
      ]
    },
    {
      "cell_type": "code",
      "execution_count": 35,
      "metadata": {
        "id": "k4FM2g_c2RJv"
      },
      "outputs": [
        {
          "data": {
            "text/plain": [
              "array([[1, 3, 5],\n",
              "       [1, 3, 5],\n",
              "       [1, 3, 5]])"
            ]
          },
          "execution_count": 35,
          "metadata": {},
          "output_type": "execute_result"
        }
      ],
      "source": [
        "array_1d = np.array([1,2,3])\n",
        "array_1d + new_array"
      ]
    },
    {
      "cell_type": "markdown",
      "metadata": {
        "id": "9CbtQS3w4PA3"
      },
      "source": [
        "# **4. Concatenation and Splitting**"
      ]
    },
    {
      "cell_type": "markdown",
      "metadata": {
        "id": "yMg_umVy4ILG"
      },
      "source": [
        "\n",
        "1.   Create two 2D arrays of shape (3, 3) with random integers.\n",
        "2.   Concatenate them horizontally and vertically.\n",
        "3.   Split the concatenated arrays back into the original arrays.\n"
      ]
    },
    {
      "cell_type": "code",
      "execution_count": 38,
      "metadata": {
        "id": "wXiCa2Sn8XHP"
      },
      "outputs": [
        {
          "data": {
            "text/plain": [
              "array([[46, 73, 81, 61, 59, 27],\n",
              "       [80, 92,  4, 16,  6, 44],\n",
              "       [86, 28, 24, 21, 97, 18]])"
            ]
          },
          "execution_count": 38,
          "metadata": {},
          "output_type": "execute_result"
        }
      ],
      "source": [
        "random_array1 = np.random.randint(1,100, size=(3,3))\n",
        "random_array2 = np.random.randint(1,100, size=(3,3))\n",
        "\n",
        "# hstack vstack\n",
        "concatenated_horizentally = np.hstack((random_array1,random_array2))\n",
        "concatenated_horizentally "
      ]
    },
    {
      "cell_type": "code",
      "execution_count": 39,
      "metadata": {
        "id": "yAiYe6vj8XSW"
      },
      "outputs": [
        {
          "data": {
            "text/plain": [
              "array([[46, 73, 81],\n",
              "       [80, 92,  4],\n",
              "       [86, 28, 24],\n",
              "       [61, 59, 27],\n",
              "       [16,  6, 44],\n",
              "       [21, 97, 18]])"
            ]
          },
          "execution_count": 39,
          "metadata": {},
          "output_type": "execute_result"
        }
      ],
      "source": [
        "#vstack\n",
        "concatenated_vertically  = np.vstack((random_array1,random_array2))\n",
        "concatenated_vertically"
      ]
    },
    {
      "cell_type": "code",
      "execution_count": 43,
      "metadata": {
        "id": "lgMsjt-J8XZK"
      },
      "outputs": [
        {
          "data": {
            "text/plain": [
              "[array([[46, 73, 81],\n",
              "        [80, 92,  4],\n",
              "        [86, 28, 24]]),\n",
              " array([[61, 59, 27],\n",
              "        [16,  6, 44],\n",
              "        [21, 97, 18]])]"
            ]
          },
          "execution_count": 43,
          "metadata": {},
          "output_type": "execute_result"
        }
      ],
      "source": [
        "#Back to original form\n",
        "#hsplit vsplit\n",
        "splitted_array = np.hsplit(concatenated_horizentally,2)\n",
        "splitted_array"
      ]
    },
    {
      "cell_type": "code",
      "execution_count": 45,
      "metadata": {},
      "outputs": [
        {
          "data": {
            "text/plain": [
              "array([[46, 73, 81],\n",
              "       [80, 92,  4],\n",
              "       [86, 28, 24]])"
            ]
          },
          "execution_count": 45,
          "metadata": {},
          "output_type": "execute_result"
        }
      ],
      "source": [
        "random_array1 = splitted_array[0]\n",
        "random_array1"
      ]
    },
    {
      "cell_type": "code",
      "execution_count": 46,
      "metadata": {},
      "outputs": [
        {
          "data": {
            "text/plain": [
              "array([[46, 73, 81],\n",
              "       [80, 92,  4],\n",
              "       [86, 28, 24]])"
            ]
          },
          "execution_count": 46,
          "metadata": {},
          "output_type": "execute_result"
        }
      ],
      "source": [
        "random_array2 = splitted_array[0]\n",
        "random_array2"
      ]
    },
    {
      "cell_type": "code",
      "execution_count": 44,
      "metadata": {},
      "outputs": [
        {
          "data": {
            "text/plain": [
              "[array([[46, 73, 81],\n",
              "        [80, 92,  4],\n",
              "        [86, 28, 24]]),\n",
              " array([[61, 59, 27],\n",
              "        [16,  6, 44],\n",
              "        [21, 97, 18]])]"
            ]
          },
          "execution_count": 44,
          "metadata": {},
          "output_type": "execute_result"
        }
      ],
      "source": [
        "#vsplit\n",
        "splitted_array = np.vsplit(concatenated_vertically,2)\n",
        "splitted_array"
      ]
    },
    {
      "cell_type": "markdown",
      "metadata": {
        "id": "2CliNLH8YG3j"
      },
      "source": [
        "# **Bonus Question**\n",
        "\n",
        "Find mode of this array  = [1,2,1,2,3,4,5,6,8,9,1,2,2,22,21,1,1,1,1,2,5]\n",
        "\n",
        "Hint: Use count and also loop"
      ]
    },
    {
      "cell_type": "code",
      "execution_count": 50,
      "metadata": {
        "id": "JGe2Qe3SYaHq"
      },
      "outputs": [
        {
          "data": {
            "text/plain": [
              "{1: 7, 2: 5, 3: 1, 4: 1, 5: 2, 6: 1, 8: 1, 9: 1, 22: 1, 21: 1}"
            ]
          },
          "execution_count": 50,
          "metadata": {},
          "output_type": "execute_result"
        }
      ],
      "source": [
        "array  = np.array([1,2,1,2,3,4,5,6,8,9,1,2,2,22,21,1,1,1,1,2,5])\n",
        "count_dict = {}\n",
        "\n",
        "for i in array:\n",
        "    if i in count_dict:\n",
        "        count_dict[i] += 1\n",
        "    else:\n",
        "        count_dict[i] = 1\n",
        "    \n",
        "count_dict\n"
      ]
    },
    {
      "cell_type": "code",
      "execution_count": 51,
      "metadata": {},
      "outputs": [
        {
          "name": "stdout",
          "output_type": "stream",
          "text": [
            "1 7\n"
          ]
        }
      ],
      "source": [
        "mode = None\n",
        "max_count = 0\n",
        "\n",
        "for key, value in count_dict.items():\n",
        "    if value > max_count:\n",
        "        max_count = value\n",
        "        mode = key\n",
        "\n",
        "print(mode,max_count)"
      ]
    },
    {
      "cell_type": "markdown",
      "metadata": {
        "id": "1t9n5GQdYbHN"
      },
      "source": [
        "# **Notes**\n",
        "\n",
        "\n",
        "1.   All the Questions carry Equal Points (2 points)\n",
        "\n",
        "2.   Bonus Question carry 5 points\n",
        "\n",
        "3.   Review lecture for any query\n",
        "\n",
        "Good Luck!\n",
        "\n"
      ]
    },
    {
      "cell_type": "code",
      "execution_count": null,
      "metadata": {
        "id": "yxT9-gJfYugV"
      },
      "outputs": [],
      "source": []
    }
  ],
  "metadata": {
    "colab": {
      "provenance": []
    },
    "kernelspec": {
      "display_name": "Python 3",
      "name": "python3"
    },
    "language_info": {
      "codemirror_mode": {
        "name": "ipython",
        "version": 3
      },
      "file_extension": ".py",
      "mimetype": "text/x-python",
      "name": "python",
      "nbconvert_exporter": "python",
      "pygments_lexer": "ipython3",
      "version": "3.12.2"
    }
  },
  "nbformat": 4,
  "nbformat_minor": 0
}
